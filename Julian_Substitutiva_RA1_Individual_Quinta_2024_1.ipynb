{
  "nbformat": 4,
  "nbformat_minor": 0,
  "metadata": {
    "colab": {
      "provenance": [],
      "include_colab_link": true
    },
    "kernelspec": {
      "name": "python3",
      "display_name": "Python 3"
    },
    "language_info": {
      "name": "python"
    }
  },
  "cells": [
    {
      "cell_type": "markdown",
      "metadata": {
        "id": "view-in-github",
        "colab_type": "text"
      },
      "source": [
        "<a href=\"https://colab.research.google.com/github/JulianBallero/ReposicaoFrank/blob/main/Julian_Substitutiva_RA1_Individual_Quinta_2024_1.ipynb\" target=\"_parent\"><img src=\"https://colab.research.google.com/assets/colab-badge.svg\" alt=\"Open In Colab\"/></a>"
      ]
    },
    {
      "cell_type": "markdown",
      "source": [
        "# Avaliação De Recuperação INDIVIDUAL RA1 - 2024-1 (substitutiva)\n",
        "\n",
        "**Antes de começar, leia estas instruções cuidadosamente.**\n",
        "Esta avaliação é individual. Você poderá consultar qualquer fonte disponível na biblioteca, suas anotações ou na internet. Mas, não poderá consultar outras pessoas.\n",
        "\n",
        "Não existirão prorrogações de prazo de entrega.\n",
        "\n",
        "**Trabalhos contendo partes idênticas entregues por pessoas, diferentes, serão zerados.**\n",
        "\n",
        "Todos os trabalhos serão entregues em uma cópia deste caderno de atividades na forma de um link postado no AVA da instituição (Canvas). Todos os enunciados devem ser preservados e você deverá inserir uma célula de textos com o **seu nome**, logo após esta célula de texto de instruções.\n",
        "\n",
        "Qualquer alteração do caderno contendo as suas respostas que seja registrada após a data de postagem provocará a anulação da avaliação.\n",
        "\n",
        "Você poderá usar, neste notebook, apenas a linguagem python limitada ao uso das seguintes bibliotecas: numpy, sympy, matplotlib, ipWidgets e IPython. Todo e qualquer gráfico deverá ser criado usando o Python.\n",
        "\n",
        "Entrega será realizada com a postagem de um link para um ambiente de execução, no AVA da institução. Neste link o seu caderno deve permitir ser executado (permissão de leitor). Serão aceitos links diretos ao ambiente do Google Colaboratory, ou Links a um caderno do Google Colaboratory que tenha sido salvo pelo próprio Google Colaboratory no GitHub. Links para outro ambiente, ou que requeiram qualquer tipo de download, cliques extras, ou ainda, que requeiram aprovação para acesso, provocarão o zeramento desta avaliação.\n",
        "\n",
        "Todas as suas simplificações e considerações serão levadas em consideração. Contudo, lembre-se que estas questões devem ser resolvidas com álgebra formal e apenas álgebra.\n",
        "\n",
        "Se você encontrar algo errado nesta avaliação simplesmente anote suas observações na própria questão. Suas observações serão consideradas durante a avaliação e, em caso de pertinência, poderão encejar a anulação do item, ou questão, a critério do professor.\n",
        "\n",
        "Não é permitido usar qualquer técnica matemática baseada em derivação, cálculo numérico, séries de Taylor ou Leibntz, ou que fuja dos conteúdos apresenados em aula referentes ao estudo dos conteúdos referentes a esta avaliação.\n",
        "\n",
        "Esta avaliação aborda os conteúdos referentes a limites, fórmula das diferenças finitas e tangentes.\n",
        "\n",
        "**Lembrem-se a interpretação faz parte da questão.**\n"
      ],
      "metadata": {
        "id": "IYWLM47FgvAt"
      }
    },
    {
      "cell_type": "markdown",
      "source": [
        "## Questões\n",
        "Usando apenas álgebra encontre o limites solicitados a seguir e faça uma análise dos resultados encontrados. Para fazer a análise você pode usar as ferramentas que desejar, desde que seja possível verificar a validade das suas afirmações usando apenas este caderno de avaliação.\n",
        "\n",
        "Lembre-se você deve usar notação matemática na sua resposta. O que implica no uso de Latex nas células de texto deste caderno de avaliação.\n",
        "\n",
        "Observe que o cálculo do valor de tendência do limite, usando uma calculadora, site, ou ferramenta qualquer, por si só não pode ser usado como argumento na sua análise. Isso quer dizer que justificativas como o limite é $w$ porque o Sympy disse que era esse valor, não serão aceitas.\n",
        "\n",
        "### Exercício 1\n",
        "$$ \\lim_{x \\to 0} \\frac{\\sqrt{x+9} - 3}{x} $$\n",
        "\n",
        "### Exercício 2\n",
        "$$ \\lim_{x \\to \\infty} \\frac{25x + 7}{\\sqrt{5x^2 + 2}} $$\n",
        "$ \\lim_{x \\to \\infty} \\frac{25x + 7}{\\sqrt{5x^2 + 2}} $ →\n",
        "$ \\lim_{x \\to \\infty} \\frac{\\frac{25x}{x} + \\frac{7}{x}}{\\sqrt {\\frac{5x^2}{x^2} + {\\frac{2}{x^2}}}} $ →\n",
        "$ \\lim_{x \\to \\infty} \\frac{25 + 0}{\\sqrt{5 + 0}} $\n",
        "$ \\lim_{x \\to \\infty} \\frac{25}{\\sqrt{5}} $\n",
        "$ \\lim_{x \\to \\infty} \\frac{25}{\\sqrt{5}} \\times \\frac{\\sqrt{5}}{\\sqrt{5}}  $\n",
        "$ \\lim_{x \\to \\infty} \\frac{25\\sqrt{5}}{5} $\n",
        "$ \\lim_{x \\to \\infty} {5\\sqrt{5}} $\n",
        "\n",
        "### Exercício 3\n",
        "$$\n",
        "\\lim_{x \\to 1} f(x) \\text{ onde } f(x) = \\begin{cases}\n",
        "2x+1 & x \\leq 1 \\\\\n",
        "x^2 + 1 & x > 1\n",
        "\\end{cases}\n",
        "$$\n",
        "\n",
        "### Exercício 4\n",
        "$$\\lim_{x \\to -\\infty} (\\sqrt{x^2 - x} - x)$$\n",
        "$\\lim_{x \\to -\\infty} (\\sqrt{x} - x + x )$ →\n",
        "$\\lim_{x \\to -\\infty} \\sqrt{x}$\n",
        "$\\lim_{x \\to -\\infty} {0}$\n",
        "\n",
        "\n",
        "**Atenção**: o sympy parece não calcular este limite corretamente.\n",
        "\n",
        "### Exercício 5\n",
        "$$ \\lim_{x \\to \\infty} \\frac{4x^2 + 3x - 5}{2x^2 - x + 1} $$\n",
        "$ \\lim_{x \\to \\infty} \\frac{4x^2 + 3x - 5}{2x^2 - x + 1} $ →\n",
        "$ \\lim_{x \\to \\infty} \\frac{4x^2 + 3x - 5}{2x^2 - x + 1} \\times \\frac{x^2}{x^2} $ →\n",
        "$ \\lim_{x \\to \\infty} \\frac{ \\frac{4x^2}{x^2} + \\frac{3x}{x^2} -\\frac{5}{x^2}}{\\frac{2x^2}{x^2} - \\frac{x}{x^2} + \\frac{1}{x^2}} $ →\n",
        "$ \\lim_{x \\to \\infty} \\frac{4 + 0 - 0}{2 - 0 + 0} $ →\n",
        "$ \\lim_{x \\to \\infty} \\frac{4}{2} $ →\n",
        "$ \\lim_{x \\to \\infty} = 2 $\n",
        "\n"
      ],
      "metadata": {
        "id": "Hffk6Rtmhaga"
      }
    },
    {
      "cell_type": "code",
      "source": [
        "from sympy import symbols, limit, diff, sin, cos, ln, exp, sqrt, Rational\n",
        "import numpy as np\n",
        "import matplotlib.pyplot as plt\n",
        "from IPython.display import display, Math\n",
        "\n",
        "# Definindo a variável simbólica e a função\n",
        "x = symbols('x')\n",
        "f = (25*x + 7 / sqrt(5*(x**2) + 2))\n",
        "\n",
        "def criar_pontos_aproximacao(valor_limite, distancia=[0.1, 0.01, 0.001, 0.0001, 0.00001]):\n",
        "    pontos_esquerda = [valor_limite - d for d in distancia]\n",
        "    pontos_direita = [valor_limite + d for d in distancia]\n",
        "    return pontos_esquerda, pontos_direita\n",
        "\n",
        "# Reaplicando a função para criar os pontos de aproximação\n",
        "pontos_esquerda, pontos_direita = criar_pontos_aproximacao(0)\n",
        "\n",
        "# Recalculando os valores de f(x) para os pontos à esquerda e à direita\n",
        "valores_esquerda = [f.subs(x, ponto).evalf() for ponto in pontos_esquerda]\n",
        "valores_direita = [f.subs(x, ponto).evalf() for ponto in pontos_direita]\n",
        "\n",
        "# Preparando a saída em formato de tabela novamente\n",
        "tabela_latex = \"\\\\begin{array}{|c|c|c|c|}\\n\"\n",
        "tabela_latex += \"\\\\hline\\n\"\n",
        "tabela_latex += \"\\\\text{Aprox. à Esquerda} & \\\\text{Valor} & \\\\text{Aprox. à Direita} & \\\\text{Valor} \\\\\\\\\\n\"\n",
        "tabela_latex += \"\\\\hline\\n\"\n",
        "for i in range(len(pontos_esquerda)):\n",
        "    tabela_latex += f\"{pontos_esquerda[i]:.5f} & {valores_esquerda[i]:.5f} & {pontos_direita[i]:.5f} & {valores_direita[i]:.5f} \\\\\\\\\\n\"\n",
        "tabela_latex += \"\\\\hline\\n\"\n",
        "tabela_latex += \"\\\\end{array}\"\n",
        "\n",
        "display(Math(tabela_latex))"
      ],
      "metadata": {
        "colab": {
          "base_uri": "https://localhost:8080/",
          "height": 140
        },
        "id": "i4YkJzyOzOuh",
        "outputId": "1682ed8d-7574-404e-d1ae-25ce6251e1f5"
      },
      "execution_count": 18,
      "outputs": [
        {
          "output_type": "display_data",
          "data": {
            "text/plain": [
              "<IPython.core.display.Math object>"
            ],
            "text/latex": "$\\displaystyle \\begin{array}{|c|c|c|c|}\n\\hline\n\\text{Aprox. à Esquerda} & \\text{Valor} & \\text{Aprox. à Direita} & \\text{Valor} \\\\\n\\hline\n-0.10000 & 2.38901 & 0.10000 & 7.38901 \\\\\n-0.01000 & 4.69913 & 0.01000 & 5.19913 \\\\\n-0.00100 & 4.92474 & 0.00100 & 4.97474 \\\\\n-0.00010 & 4.94725 & 0.00010 & 4.95225 \\\\\n-0.00001 & 4.94950 & 0.00001 & 4.95000 \\\\\n\\hline\n\\end{array}$"
          },
          "metadata": {}
        }
      ]
    },
    {
      "cell_type": "markdown",
      "source": [
        "\n",
        "aproximação do exercício 5"
      ],
      "metadata": {
        "id": "-LQg0uXAzOFN"
      }
    },
    {
      "cell_type": "code",
      "source": [
        "from sympy import symbols, limit, diff, sin, cos, ln, exp, sqrt, Rational\n",
        "import numpy as np\n",
        "import matplotlib.pyplot as plt\n",
        "from IPython.display import display, Math\n",
        "\n",
        "# Definindo a variável simbólica e a função\n",
        "x = symbols('x')\n",
        "f = ((4*(x**2) + 3*(x) - 5)/(2*(x**2) - x + 1))\n",
        "\n",
        "def criar_pontos_aproximacao(valor_limite, distancia=[0.1, 0.01, 0.001, 0.0001, 0.00001]):\n",
        "    pontos_esquerda = [valor_limite - d for d in distancia]\n",
        "    pontos_direita = [valor_limite + d for d in distancia]\n",
        "    return pontos_esquerda, pontos_direita\n",
        "\n",
        "# Reaplicando a função para criar os pontos de aproximação\n",
        "pontos_esquerda, pontos_direita = criar_pontos_aproximacao(0)\n",
        "\n",
        "# Recalculando os valores de f(x) para os pontos à esquerda e à direita\n",
        "valores_esquerda = [f.subs(x, ponto).evalf() for ponto in pontos_esquerda]\n",
        "valores_direita = [f.subs(x, ponto).evalf() for ponto in pontos_direita]\n",
        "\n",
        "# Preparando a saída em formato de tabela novamente\n",
        "tabela_latex = \"\\\\begin{array}{|c|c|c|c|}\\n\"\n",
        "tabela_latex += \"\\\\hline\\n\"\n",
        "tabela_latex += \"\\\\text{Aprox. à Esquerda} & \\\\text{Valor} & \\\\text{Aprox. à Direita} & \\\\text{Valor} \\\\\\\\\\n\"\n",
        "tabela_latex += \"\\\\hline\\n\"\n",
        "for i in range(len(pontos_esquerda)):\n",
        "    tabela_latex += f\"{pontos_esquerda[i]:.5f} & {valores_esquerda[i]:.5f} & {pontos_direita[i]:.5f} & {valores_direita[i]:.5f} \\\\\\\\\\n\"\n",
        "tabela_latex += \"\\\\hline\\n\"\n",
        "tabela_latex += \"\\\\end{array}\"\n",
        "\n",
        "display(Math(tabela_latex))"
      ],
      "metadata": {
        "colab": {
          "base_uri": "https://localhost:8080/",
          "height": 140
        },
        "id": "3yoi0Eq5ooYI",
        "outputId": "e6a00ff7-4069-4f94-81b0-061080ce1e3f"
      },
      "execution_count": 19,
      "outputs": [
        {
          "output_type": "display_data",
          "data": {
            "text/plain": [
              "<IPython.core.display.Math object>"
            ],
            "text/latex": "$\\displaystyle \\begin{array}{|c|c|c|c|}\n\\hline\n\\text{Aprox. à Esquerda} & \\text{Valor} & \\text{Aprox. à Direita} & \\text{Valor} \\\\\n\\hline\n-0.10000 & -4.69643 & 0.10000 & -5.06522 \\\\\n-0.01000 & -4.97882 & 0.01000 & -5.01878 \\\\\n-0.00100 & -4.99799 & 0.00100 & -5.00199 \\\\\n-0.00010 & -4.99980 & 0.00010 & -5.00020 \\\\\n-0.00001 & -4.99998 & 0.00001 & -5.00002 \\\\\n\\hline\n\\end{array}$"
          },
          "metadata": {}
        }
      ]
    },
    {
      "cell_type": "markdown",
      "source": [
        "**Rúbrica de avaliação**: cada limite corretamente determinado com a algebra demonstrada em notação matemática 1 ponto; cada análise consistente 1 ponto. Total 2 pontos por questão implicando em, no máximo 10 pontos."
      ],
      "metadata": {
        "id": "UKBAnZAZr0qM"
      }
    },
    {
      "cell_type": "markdown",
      "source": [
        "As análises podem ser feitas por meio da análise gráfica, ou da ánálise dos limites laterais (aproximações pela esquerda e pela direita. Serão avaliadas de acordo com o que for apresentado por cada aluno.\n"
      ],
      "metadata": {
        "id": "IhdeU66tVqpl"
      }
    }
  ]
}